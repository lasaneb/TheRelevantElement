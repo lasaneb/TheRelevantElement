{
 "cells": [
  {
   "cell_type": "markdown",
   "metadata": {},
   "source": [
    "# Scan for Articles\n",
    "<p> This script will use NewsAPI to scan for articles based on keywords\n",
    "<p> Then it will apply the Flair sentiment model and add the results to a dataframe"
   ]
  },
  {
   "cell_type": "markdown",
   "metadata": {},
   "source": [
    "## Initial Imports"
   ]
  },
  {
   "cell_type": "code",
   "execution_count": 1,
   "metadata": {},
   "outputs": [
    {
     "name": "stderr",
     "output_type": "stream",
     "text": [
      "2022-02-21 03:49:35.260 INFO    numexpr.utils: NumExpr defaulting to 8 threads.\n"
     ]
    }
   ],
   "source": [
    "# Initial Imports\n",
    "\n",
    "import streamlit as st\n",
    "import os\n",
    "from newsapi import NewsApiClient\n",
    "from datetime import date, timedelta\n",
    "import pandas as pd\n",
    "from fpdf import FPDF\n",
    "news_api_key = os.getenv(\"news_api_key\")\n",
    "import flair\n",
    "from flair.data import Sentence\n",
    "import requests\n",
    "import helium"
   ]
  },
  {
   "cell_type": "markdown",
   "metadata": {},
   "source": [
    "## Function to scan for articles based on keywords"
   ]
  },
  {
   "cell_type": "code",
   "execution_count": 2,
   "metadata": {},
   "outputs": [],
   "source": [
    "def scan_for_articles(keyword):\n",
    "    newsapi = NewsApiClient(api_key=news_api_key)\n",
    "    relevant_articles = newsapi.get_everything(q=keyword,\n",
    "                                        language='en', \n",
    "                                        sort_by='relevancy', \n",
    "                                        page_size=100)\n",
    "    return relevant_articles\n"
   ]
  },
  {
   "cell_type": "code",
   "execution_count": 2,
   "metadata": {},
   "outputs": [],
   "source": [
    "# from selenium import webdriver\n",
    "  \n",
    "# # Create object\n",
    "# driver = webdriver.Chrome()\n",
    "  \n",
    "# # Assign URL\n",
    "# url = \"https://www.geeksforgeeks.org/\"\n",
    "  \n",
    "# # New Url\n",
    "# new_url = [\"https://www.wombo.art\", \"https://www.foxnews.com/media/fox-news-crushes-competition-cnn-draws-smallest-weekly-audience-seven-years\"]\n",
    "\n",
    "# # New Url\n",
    "# another_new_url = \"https://www.wombo.art\"\n",
    "  \n",
    "# # Opening first url\n",
    "# driver.get(url)\n",
    "  \n",
    "# # Open a new window\n",
    "# driver.execute_script(\"window.open('');\")\n",
    "  \n",
    "# # Switch to the new window and open new URL\n",
    "# driver.switch_to.window(driver.window_handles[1])\n",
    "# driver.get(new_url[0])\n",
    "\n",
    "# driver.execute_script(\"window.open('');\")\n",
    "# driver.switch_to.window(driver.window_handles[2])\n",
    "# driver.get(new_url[1])"
   ]
  },
  {
   "cell_type": "markdown",
   "metadata": {},
   "source": [
    "## Pass in keywords into the scan function and return a dataframe"
   ]
  },
  {
   "cell_type": "code",
   "execution_count": 3,
   "metadata": {},
   "outputs": [],
   "source": [
    "\n",
    "all_relevant_articles = pd.DataFrame(columns = [\"source\", \"author\",\t\"title\", \"description\",\t\"url\",\"urlToImage\", \"publishedAt\", \"content\", \"keyword\",\"article_sentiment\", \"article_confidence\"])\n",
    "\n",
    "keywords = ['Helping', 'Forgiveness', 'Positive']\n",
    "\n",
    "for word in keywords:\n",
    "    relevant_articles = scan_for_articles(word)\n",
    "    df = pd.DataFrame(relevant_articles['articles'])\n",
    "    df[\"keyword\"] = word\n",
    "    all_relevant_articles = pd.concat([all_relevant_articles, df],ignore_index=True)\n",
    "\n",
    "# Clean the data in the source column\n",
    "#     \n",
    "all_relevant_articles[\"source\"] = all_relevant_articles[\"source\"].apply(lambda x: x['name'])\n"
   ]
  },
  {
   "cell_type": "markdown",
   "metadata": {},
   "source": [
    "# Apply Sentiment model"
   ]
  },
  {
   "cell_type": "code",
   "execution_count": 6,
   "metadata": {},
   "outputs": [
    {
     "name": "stdout",
     "output_type": "stream",
     "text": [
      "2022-02-21 04:19:10,866 loading file C:\\Users\\Airma\\.flair\\models\\sentiment-en-mix-distillbert_4.pt\n"
     ]
    }
   ],
   "source": [
    "article_sentiment_model = flair.models.TextClassifier.load('en-sentiment')\n",
    "\n",
    "# Initialize lists\n",
    "\n",
    "article_sentiment = []\n",
    "article_confidence = []\n",
    "\n",
    "\n",
    "# Run Sentiment analysis on collected news sentences\n",
    "\n",
    "\n",
    "for sentence in all_relevant_articles[\"description\"]:\n",
    "        if sentence.strip() == \"\":\n",
    "                article_confidence.append(\"\")\n",
    "                article_sentiment.append(\"\")\n",
    "                \n",
    "        else:\n",
    "                sample = flair.data.Sentence(sentence)\n",
    "                article_sentiment_model.predict(sample)\n",
    "                article_sentiment.append(sample.labels[0].value)\n",
    "                article_confidence.append(sample.labels[0].score)\n",
    "\n",
    "# Add Results to Dataframe\n",
    "\n",
    "all_relevant_articles['sentiment'] = article_sentiment\n",
    "all_relevant_articles['confidence'] = article_confidence"
   ]
  },
  {
   "cell_type": "code",
   "execution_count": 7,
   "metadata": {},
   "outputs": [
    {
     "data": {
      "text/html": [
       "<div>\n",
       "<style scoped>\n",
       "    .dataframe tbody tr th:only-of-type {\n",
       "        vertical-align: middle;\n",
       "    }\n",
       "\n",
       "    .dataframe tbody tr th {\n",
       "        vertical-align: top;\n",
       "    }\n",
       "\n",
       "    .dataframe thead th {\n",
       "        text-align: right;\n",
       "    }\n",
       "</style>\n",
       "<table border=\"1\" class=\"dataframe\">\n",
       "  <thead>\n",
       "    <tr style=\"text-align: right;\">\n",
       "      <th></th>\n",
       "      <th>source</th>\n",
       "      <th>author</th>\n",
       "      <th>title</th>\n",
       "      <th>description</th>\n",
       "      <th>url</th>\n",
       "      <th>urlToImage</th>\n",
       "      <th>publishedAt</th>\n",
       "      <th>content</th>\n",
       "      <th>keyword</th>\n",
       "      <th>article_sentiment</th>\n",
       "      <th>article_confidence</th>\n",
       "      <th>sentiment</th>\n",
       "      <th>confidence</th>\n",
       "    </tr>\n",
       "  </thead>\n",
       "  <tbody>\n",
       "    <tr>\n",
       "      <th>0</th>\n",
       "      <td>New York Times</td>\n",
       "      <td>Tara Parker-Pope</td>\n",
       "      <td>Dos and Don’ts of Helping Out a Friend in Need</td>\n",
       "      <td>Sometimes well-meaning check-ins can create an...</td>\n",
       "      <td>https://www.nytimes.com/2022/02/17/well/family...</td>\n",
       "      <td>https://static01.nyt.com/images/2022/02/17/wel...</td>\n",
       "      <td>2022-02-18T23:01:07Z</td>\n",
       "      <td>Dont: Text for updates. Try to avoid sending a...</td>\n",
       "      <td>Helping</td>\n",
       "      <td>NaN</td>\n",
       "      <td>NaN</td>\n",
       "      <td>NEGATIVE</td>\n",
       "      <td>0.874903</td>\n",
       "    </tr>\n",
       "    <tr>\n",
       "      <th>1</th>\n",
       "      <td>Gizmodo.com</td>\n",
       "      <td>Justin Carter</td>\n",
       "      <td>M. Night Shyamalan Thanks Blade Runner 2049 fo...</td>\n",
       "      <td>Guardians of the Galaxy is typically credited ...</td>\n",
       "      <td>https://gizmodo.com/m-night-shyamalan-thanks-b...</td>\n",
       "      <td>https://i.kinja-img.com/gawker-media/image/upl...</td>\n",
       "      <td>2022-01-29T17:45:00Z</td>\n",
       "      <td>Guardians of the Galaxyis typically credited w...</td>\n",
       "      <td>Helping</td>\n",
       "      <td>NaN</td>\n",
       "      <td>NaN</td>\n",
       "      <td>POSITIVE</td>\n",
       "      <td>0.997320</td>\n",
       "    </tr>\n",
       "    <tr>\n",
       "      <th>2</th>\n",
       "      <td>New York Times</td>\n",
       "      <td>Annie Karni</td>\n",
       "      <td>Clyburn Pushes Childs for Supreme Court, Testi...</td>\n",
       "      <td>The highest-ranking Black member of Congress i...</td>\n",
       "      <td>https://www.nytimes.com/2022/02/03/us/politics...</td>\n",
       "      <td>https://static01.nyt.com/images/2022/02/03/us/...</td>\n",
       "      <td>2022-02-03T21:58:17Z</td>\n",
       "      <td>I decided that Joe Biden needed to do somethin...</td>\n",
       "      <td>Helping</td>\n",
       "      <td>NaN</td>\n",
       "      <td>NaN</td>\n",
       "      <td>POSITIVE</td>\n",
       "      <td>0.992109</td>\n",
       "    </tr>\n",
       "    <tr>\n",
       "      <th>3</th>\n",
       "      <td>New York Times</td>\n",
       "      <td>Stanley Reed</td>\n",
       "      <td>What Happens if Russia Cuts Off Europe’s Natur...</td>\n",
       "      <td>Europe is a huge customer of Russia’s fossil f...</td>\n",
       "      <td>https://www.nytimes.com/2022/01/25/business/en...</td>\n",
       "      <td>https://static01.nyt.com/images/2022/01/25/bus...</td>\n",
       "      <td>2022-01-25T22:24:32Z</td>\n",
       "      <td>But while storage levels remain low and prices...</td>\n",
       "      <td>Helping</td>\n",
       "      <td>NaN</td>\n",
       "      <td>NaN</td>\n",
       "      <td>POSITIVE</td>\n",
       "      <td>0.996027</td>\n",
       "    </tr>\n",
       "    <tr>\n",
       "      <th>4</th>\n",
       "      <td>New York Times</td>\n",
       "      <td>None</td>\n",
       "      <td>‘I Asked a Woman on the Platform if She Had An...</td>\n",
       "      <td>Helping hands in the subway, a tug of war on t...</td>\n",
       "      <td>https://www.nytimes.com/2022/01/23/nyregion/me...</td>\n",
       "      <td>https://static01.nyt.com/images/2022/01/23/nyr...</td>\n",
       "      <td>2022-01-23T08:00:07Z</td>\n",
       "      <td>Another woman called out to me.\\r\\nI overheard...</td>\n",
       "      <td>Helping</td>\n",
       "      <td>NaN</td>\n",
       "      <td>NaN</td>\n",
       "      <td>POSITIVE</td>\n",
       "      <td>0.981947</td>\n",
       "    </tr>\n",
       "  </tbody>\n",
       "</table>\n",
       "</div>"
      ],
      "text/plain": [
       "           source            author  \\\n",
       "0  New York Times  Tara Parker-Pope   \n",
       "1     Gizmodo.com     Justin Carter   \n",
       "2  New York Times       Annie Karni   \n",
       "3  New York Times      Stanley Reed   \n",
       "4  New York Times              None   \n",
       "\n",
       "                                               title  \\\n",
       "0     Dos and Don’ts of Helping Out a Friend in Need   \n",
       "1  M. Night Shyamalan Thanks Blade Runner 2049 fo...   \n",
       "2  Clyburn Pushes Childs for Supreme Court, Testi...   \n",
       "3  What Happens if Russia Cuts Off Europe’s Natur...   \n",
       "4  ‘I Asked a Woman on the Platform if She Had An...   \n",
       "\n",
       "                                         description  \\\n",
       "0  Sometimes well-meaning check-ins can create an...   \n",
       "1  Guardians of the Galaxy is typically credited ...   \n",
       "2  The highest-ranking Black member of Congress i...   \n",
       "3  Europe is a huge customer of Russia’s fossil f...   \n",
       "4  Helping hands in the subway, a tug of war on t...   \n",
       "\n",
       "                                                 url  \\\n",
       "0  https://www.nytimes.com/2022/02/17/well/family...   \n",
       "1  https://gizmodo.com/m-night-shyamalan-thanks-b...   \n",
       "2  https://www.nytimes.com/2022/02/03/us/politics...   \n",
       "3  https://www.nytimes.com/2022/01/25/business/en...   \n",
       "4  https://www.nytimes.com/2022/01/23/nyregion/me...   \n",
       "\n",
       "                                          urlToImage           publishedAt  \\\n",
       "0  https://static01.nyt.com/images/2022/02/17/wel...  2022-02-18T23:01:07Z   \n",
       "1  https://i.kinja-img.com/gawker-media/image/upl...  2022-01-29T17:45:00Z   \n",
       "2  https://static01.nyt.com/images/2022/02/03/us/...  2022-02-03T21:58:17Z   \n",
       "3  https://static01.nyt.com/images/2022/01/25/bus...  2022-01-25T22:24:32Z   \n",
       "4  https://static01.nyt.com/images/2022/01/23/nyr...  2022-01-23T08:00:07Z   \n",
       "\n",
       "                                             content  keyword  \\\n",
       "0  Dont: Text for updates. Try to avoid sending a...  Helping   \n",
       "1  Guardians of the Galaxyis typically credited w...  Helping   \n",
       "2  I decided that Joe Biden needed to do somethin...  Helping   \n",
       "3  But while storage levels remain low and prices...  Helping   \n",
       "4  Another woman called out to me.\\r\\nI overheard...  Helping   \n",
       "\n",
       "  article_sentiment article_confidence sentiment  confidence  \n",
       "0               NaN                NaN  NEGATIVE    0.874903  \n",
       "1               NaN                NaN  POSITIVE    0.997320  \n",
       "2               NaN                NaN  POSITIVE    0.992109  \n",
       "3               NaN                NaN  POSITIVE    0.996027  \n",
       "4               NaN                NaN  POSITIVE    0.981947  "
      ]
     },
     "execution_count": 7,
     "metadata": {},
     "output_type": "execute_result"
    }
   ],
   "source": [
    "all_relevant_articles.head()"
   ]
  },
  {
   "cell_type": "code",
   "execution_count": 9,
   "metadata": {},
   "outputs": [],
   "source": [
    "all_relevant_articles.to_csv(\"all_relevant_articles.csv\")"
   ]
  }
 ],
 "metadata": {
  "kernelspec": {
   "display_name": "Python 3.8.13 ('NFT_Project')",
   "language": "python",
   "name": "python3"
  },
  "language_info": {
   "codemirror_mode": {
    "name": "ipython",
    "version": 3
   },
   "file_extension": ".py",
   "mimetype": "text/x-python",
   "name": "python",
   "nbconvert_exporter": "python",
   "pygments_lexer": "ipython3",
   "version": "3.8.13"
  },
  "orig_nbformat": 4,
  "vscode": {
   "interpreter": {
    "hash": "81d8daeeaa44f9f1ba5608a5bac57fb179a96b6168774bd7c46f76ea6ad88205"
   }
  }
 },
 "nbformat": 4,
 "nbformat_minor": 2
}
